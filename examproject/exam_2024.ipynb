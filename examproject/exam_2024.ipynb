{
 "cells": [
  {
   "cell_type": "markdown",
   "metadata": {},
   "source": [
    "**Table of contents**<a id='toc0_'></a>    \n",
    "- 1. [Problem 1: Production economy and CO2 taxation](#toc1_)    \n",
    "- 2. [Problem 2: Career choice model](#toc2_)    \n",
    "- 3. [Problem 3: Barycentric interpolation](#toc3_)    \n",
    "\n",
    "<!-- vscode-jupyter-toc-config\n",
    "\tnumbering=true\n",
    "\tanchor=true\n",
    "\tflat=false\n",
    "\tminLevel=2\n",
    "\tmaxLevel=6\n",
    "\t/vscode-jupyter-toc-config -->\n",
    "<!-- THIS CELL WILL BE REPLACED ON TOC UPDATE. DO NOT WRITE YOUR TEXT IN THIS CELL -->"
   ]
  },
  {
   "cell_type": "code",
   "execution_count": 1,
   "metadata": {},
   "outputs": [],
   "source": [
    "# Loading packages\n",
    "import numpy as np\n",
    "from types import SimpleNamespace\n",
    "import matplotlib.pyplot as plt"
   ]
  },
  {
   "cell_type": "markdown",
   "metadata": {},
   "source": [
    "## 1. <a id='toc1_'></a>[Problem 1: Production economy and CO2 taxation](#toc0_)"
   ]
  },
  {
   "cell_type": "markdown",
   "metadata": {},
   "source": [
    "Consider a production economy with two firms indexed by $j \\in \\{1,2\\}$. Each produce its own good. They solve\n",
    "\n",
    "$$\n",
    "\\begin{align*}\n",
    "\\max_{y_{j}}\\pi_{j}&=p_{j}y_{j}-w_{j}\\ell_{j}\\\\\\text{s.t.}\\;&y_{j}=A\\ell_{j}^{\\gamma}.\n",
    "\\end{align*}\n",
    "$$\n",
    "\n",
    "Optimal firm behavior is\n",
    "\n",
    "$$\n",
    "\\begin{align*}\n",
    "\\ell_{j}^{\\star}(w,p_{j})&=\\left(\\frac{p_{j}A\\gamma}{w}\\right)^{\\frac{1}{1-\\gamma}} \\\\\n",
    "y_{j}^{\\star}(w,p_{j})&=A\\left(\\ell_{j}^{\\star}(w,p_{j})\\right)^{\\gamma}\n",
    "\\end{align*}\n",
    "$$\n",
    "\n",
    "The implied profits are\n",
    "\n",
    "$$\n",
    "\\pi_{j}^*(w,p_{j})=\\frac{1-\\gamma}{\\gamma}w\\cdot\\left(\\frac{p_{j}A\\gamma}{w}\\right)^{\\frac{1}{1-\\gamma}}\n",
    "$$\n",
    "\n",
    "A single consumer supplies labor, and consumes the goods the firms produce. She also recieves the implied profits of the firm.<br>\n",
    "She solves:\n",
    "\n",
    "$$\n",
    "\\begin{align*}\n",
    "U(p_1,p_2,w,\\tau,T) = \\max_{c_{1},c_{2},\\ell} & \\log(c_{1}^{\\alpha}c_{2}^{1-\\alpha})-\\nu\\frac{\\ell^{1+\\epsilon}}{1+\\epsilon} \\\\\n",
    "\\text{s.t.}\\,\\,\\,&p_{1}c_{1}+(p_{2}+\\tau)c_{2}=w\\ell+T+\\pi_{1}^*(w,p_{1})+\\pi_{2}^*(w,p_{2})\n",
    "\\end{align*}\n",
    "$$\n",
    "\n",
    "where $\\tau$ is a tax and $T$ is lump-sum transfer. <br>\n",
    "For a given $\\ell$, it can be shown that optimal behavior is\n",
    "\n",
    "$$\n",
    "\\begin{align*}\n",
    "c_{1}(\\ell)&=\\alpha\\frac{w\\ell+T+\\pi_{1}^*(w,p_{1})+\\pi_{2}^*(w,p_{2})}{p_{1}} \\\\\n",
    "c_{2}(\\ell)&=(1-\\alpha)\\frac{w\\ell+T+\\pi_{1}^*(w,p_{1})+\\pi_{2}^*(w,p_{2})}{p_{2}+\\tau} \\\\\n",
    "\\end{align*}\n",
    "$$\n",
    "Such that optimal behavior is:\n",
    "$$\n",
    "\\ell^* = \\underset{\\ell}{\\arg\\max} \\log(\\left(c_{1}(\\ell)\\right)^{\\alpha}\\cdot \\left(c_{2}(\\ell)\\right)^{1-\\alpha})-\\nu\\frac{\\ell^{1+\\epsilon}}{1+\\epsilon} \n",
    "$$\n",
    "With optimal consumption:\n",
    "$$\n",
    "\\begin{align*}\n",
    "c_1^*=c_{1}(\\ell^*) \\\\\n",
    "c_2^*=c_{2}(\\ell^*)\\\\\n",
    "\\end{align*}\n",
    "$$\n",
    "\n",
    "\n",
    "The government chooses $\\tau$ and balances its budget so $T=\\tau c_2^*$. We initially set $\\tau,T=0$.\n",
    "\n",
    "Market clearing requires:\n",
    "\n",
    "1. Labor market: $\\ell^* = \\ell_1^* + \\ell_2^*$\n",
    "1. Good market 1: $c_1^* = y_1^*$\n",
    "1. Good market 2: $c_2^* = y_2^*$\n"
   ]
  },
  {
   "cell_type": "markdown",
   "metadata": {},
   "source": [
    "**Question 1:** Check market clearing conditions for $p_1$ in `linspace(0.1,2.0,10)` and $p_2$ in `linspace(0.1,2.0,10)`. We choose $w=1$ as numeraire."
   ]
  },
  {
   "cell_type": "code",
   "execution_count": 2,
   "metadata": {},
   "outputs": [],
   "source": [
    "par = SimpleNamespace()\n",
    "\n",
    "# firms\n",
    "par.A = 1.0\n",
    "par.gamma = 0.5\n",
    "\n",
    "# households\n",
    "par.alpha = 0.3\n",
    "par.nu = 1.0\n",
    "par.epsilon = 2.0\n",
    "\n",
    "# government\n",
    "par.tau = 0.0\n",
    "par.T = 0.0\n",
    "\n",
    "# Question 3\n",
    "par.kappa = 0.1"
   ]
  },
  {
   "cell_type": "code",
   "execution_count": 3,
   "metadata": {},
   "outputs": [
    {
     "name": "stdout",
     "output_type": "stream",
     "text": [
      "Estimation 1: p1 = 0.100 | p2 = 0.100 | Labor Market = 0.993 | Good Market 1 = 2.960 | Good Market 2 = 6.973\n",
      "Estimation 2: p1 = 0.100 | p2 = 0.311 | Labor Market = 0.964 | Good Market 1 = 3.004 | Good Market 2 = 2.135\n",
      "Estimation 3: p1 = 0.100 | p2 = 0.522 | Labor Market = 0.906 | Good Market 1 = 3.093 | Good Market 2 = 1.143\n",
      "Estimation 4: p1 = 0.100 | p2 = 0.733 | Labor Market = 0.819 | Good Market 1 = 3.230 | Good Market 2 = 0.677\n",
      "Estimation 5: p1 = 0.100 | p2 = 0.944 | Labor Market = 0.705 | Good Market 1 = 3.417 | Good Market 2 = 0.384\n",
      "Estimation 6: p1 = 0.100 | p2 = 1.156 | Labor Market = 0.563 | Good Market 1 = 3.658 | Good Market 2 = 0.171\n",
      "Estimation 7: p1 = 0.100 | p2 = 1.367 | Labor Market = 0.396 | Good Market 1 = 3.955 | Good Market 2 = 0.000\n",
      "Estimation 8: p1 = 0.100 | p2 = 1.578 | Labor Market = 0.204 | Good Market 1 = 4.312 | Good Market 2 = -0.144\n",
      "Estimation 9: p1 = 0.100 | p2 = 1.789 | Labor Market = -0.011 | Good Market 1 = 4.733 | Good Market 2 = -0.271\n",
      "Estimation 10: p1 = 0.100 | p2 = 2.000 | Labor Market = -0.248 | Good Market 1 = 5.221 | Good Market 2 = -0.385\n",
      "Estimation 11: p1 = 0.311 | p2 = 0.100 | Labor Market = 0.964 | Good Market 1 = 0.826 | Good Market 2 = 7.075\n"
     ]
    }
   ],
   "source": [
    "from exam_2024 import EconomicsModel\n",
    "\n",
    "# Using a class to import the model function\n",
    "model = EconomicsModel()\n",
    "\n",
    "# Check market clearing conditions for p1 and p2 in the specified ranges\n",
    "p1_values = np.linspace(0.1, 2.0, 10)\n",
    "p2_values = np.linspace(0.1, 2.0, 10)\n",
    "w = 1.0\n",
    "\n",
    "#storing the market clearing results\n",
    "estimation_results = []\n",
    "\n",
    "#making a loop for p1 and p1 through their respective possible values\n",
    "for p1 in p1_values:\n",
    "    for p2 in p2_values:\n",
    "        result_market_clearing = model.market_clearing(p1, p2, w)\n",
    "        estimation_results.append((p1, p2, result_market_clearing))\n",
    "\n",
    "# Print the 11 first market clearing results\n",
    "for idx, (p1, p2, result) in enumerate(estimation_results[:11]):\n",
    "    \"Printing out the first 11 market clearing results given the price of firm 1 and 2.\"\n",
    "    \"Labor market is the difference between the labor supplied by the consumer and the labor demanded by the firms.\" \n",
    "    \"Good market 1 and 2 is the difference between the consumption and the output of the firms.\"\n",
    "    print(f\"Estimation {idx + 1}: p1 = {p1:.3f} | p2 = {p2:.3f} | Labor Market = {result[0]:.3f} | Good Market 1 = {result[1]:.3f} | Good Market 2 = {result[2]:.3f}\")\n"
   ]
  },
  {
   "cell_type": "markdown",
   "metadata": {},
   "source": [
    "The results above show the price for firm 1 and firm 2 respectively as well as whether the labor market expericens a surpluss or defficience of labor. Aditionally, it checks for whether the goods markets clear ie. whether there are discreptencies in output and consumption of either good 1 or 2."
   ]
  },
  {
   "cell_type": "markdown",
   "metadata": {},
   "source": [
    "**Question 2:** Find the equilibrium prices $p_1$ and $p_2$.<br>\n",
    "*Hint: you can use Walras' law to only check 2 of the market clearings*"
   ]
  },
  {
   "cell_type": "code",
   "execution_count": 4,
   "metadata": {},
   "outputs": [
    {
     "name": "stdout",
     "output_type": "stream",
     "text": [
      "Equilibrium prices found: p1 = 0.944, p2 = 1.578\n",
      "Market clearing values:\n",
      "Labor Market = -0.061808  | Good Market 1 = 0.045184   | Good Market 2 = -0.066221 \n"
     ]
    }
   ],
   "source": [
    "# Question 2 essentially uses the results from question 1 to find the market clearing prices p1 and p2\n",
    "from exam_2024 import EconomicsModel\n",
    "\n",
    "# Using a class to import the model function\n",
    "model = EconomicsModel()\n",
    "\n",
    "# Initialize the parameters\n",
    "p1_values = np.linspace(0.1, 2.0, 10)\n",
    "p2_values = np.linspace(0.1, 2.0, 10)\n",
    "w = 1.0\n",
    "\n",
    "# storing results\n",
    "market_clearing_results = []\n",
    "\n",
    "# drawing through the possible values of p1 and p2 from question 1\n",
    "for p1 in p1_values:\n",
    "    for p2 in p2_values:\n",
    "        result = model.market_clearing(p1, p2, w)\n",
    "        market_clearing_results.append((p1, p2, result))\n",
    "\n",
    "\n",
    "# Finding the best market clearing prices\n",
    "best_p1, best_p2, best_labor_market, best_good_market_1, best_good_market_2 = model.find_best_market_clearing(market_clearing_results)\n",
    "\n",
    "# Print of the best prices, as well as a look at whehter the markets have cleared.\n",
    "print(f\"Equilibrium prices found: p1 = {best_p1:.3f}, p2 = {best_p2:.3f}\")\n",
    "print(f\"Market clearing values:\")\n",
    "print(f\"Labor Market = {best_labor_market:<10f} | Good Market 1 = {best_good_market_1:<10f} | Good Market 2 = {best_good_market_2:<10f}\")"
   ]
  },
  {
   "cell_type": "markdown",
   "metadata": {},
   "source": [
    "Given the above values, it is found that with a price of 0.944 for firm 1 and 1.578 for firm 2 the market clears as much as possible. \\\n",
    "The labor and goods markets are closed to being cleared, but don't clear perfectly. "
   ]
  },
  {
   "cell_type": "markdown",
   "metadata": {},
   "source": [
    "Assume the government care about the social welfare function:\n",
    "\n",
    "$$\n",
    "SWF = U - \\kappa y_2^*\n",
    "$$"
   ]
  },
  {
   "cell_type": "markdown",
   "metadata": {},
   "source": [
    "Here $\\kappa$ measures the social cost of carbon emitted by the production of $y_2$ in equilibrium."
   ]
  },
  {
   "cell_type": "markdown",
   "metadata": {},
   "source": [
    "**Question 3:** What values of $\\tau$ and (implied) $T$ should the government choose to maximize $SWF$?"
   ]
  },
  {
   "cell_type": "markdown",
   "metadata": {},
   "source": [
    "The results provide an insight to what the optimal tax rate would be to maximize social wefare. \\\n",
    "Here a tax rate on carbon of 23 percentage on good 2, gives the optimal amount of utility. \\\n",
    "The market is again close to clearing, but does not clear perfectly. It actually clears less than in question 2, essentially making people worse off due to this tax.\n"
   ]
  },
  {
   "cell_type": "code",
   "execution_count": 5,
   "metadata": {},
   "outputs": [
    {
     "name": "stdout",
     "output_type": "stream",
     "text": [
      "Optimal tau: 0.236\n",
      "Implied optimal T: 0.169\n",
      "Equilibrium prices: p1 = 0.944, p2 = 1.367\n",
      "Market clearing values:\n",
      "Labor Market = 0.090952\n",
      "Good Market 1 = 0.048691\n",
      "Good Market 2 = 0.032904\n",
      "Utility: -0.587999\n"
     ]
    }
   ],
   "source": [
    "from exam_2024 import EconomicsModel\n",
    "\n",
    "# Create an instance of the EconomicsModel class\n",
    "model = EconomicsModel()\n",
    "\n",
    "# Finding the optimal values for tau and T and the corresponding prices and market clearing prices\n",
    "optimal_tau, optimal_T, equilibrium_results = model.find_optimal_tau()\n",
    "\n",
    "# Results from the model\n",
    "print(f\"Optimal tau: {optimal_tau:.3f}\")\n",
    "print(f\"Implied optimal T: {optimal_T:.3f}\")\n",
    "print(f\"Equilibrium prices: p1 = {equilibrium_results['p1']:.3f}, p2 = {equilibrium_results['p2']:.3f}\")\n",
    "print(f\"Market clearing values:\")\n",
    "print(f\"Labor Market = {equilibrium_results['labor_market']:.6f}\")\n",
    "print(f\"Good Market 1 = {equilibrium_results['good_market_1']:.6f}\")\n",
    "print(f\"Good Market 2 = {equilibrium_results['good_market_2']:.6f}\")\n",
    "print(f\"Utility: {model.consumer_utility(equilibrium_results['c1_star'], equilibrium_results['c2_star'], model.par.alpha, model.par.nu, equilibrium_results['ell_star'], model.par.epsilon):.6f}\")\n"
   ]
  },
  {
   "cell_type": "markdown",
   "metadata": {},
   "source": [
    "## 2. <a id='toc2_'></a>[Problem 2: Career choice model](#toc0_)"
   ]
  },
  {
   "cell_type": "markdown",
   "metadata": {},
   "source": [
    "Consider a graduate $i$ making a choice between entering $J$ different career tracks. <br>\n",
    "Entering career $j$ yields utility $u^k_{ij}$. This value is unknown to the graduate ex ante, but will ex post be: <br>\n",
    "$$\n",
    "    u_{i,j}^k = v_{j} + \\epsilon_{i,j}^k\n",
    "$$\n",
    "\n",
    "They know that $\\epsilon^k_{i,j}\\sim \\mathcal{N}(0,\\sigma^2)$, but they do not observe $\\epsilon^k_{i,j}$ before making their career choice. <br>"
   ]
  },
  {
   "cell_type": "markdown",
   "metadata": {},
   "source": [
    "Consider the concrete case of $J=3$ with:\n",
    "$$\n",
    "\\begin{align*}\n",
    "    v_{1} &= 1 \\\\\n",
    "    v_{2} &= 2 \\\\\n",
    "    v_{3} &= 3\n",
    "\\end{align*}\n",
    "$$"
   ]
  },
  {
   "cell_type": "markdown",
   "metadata": {},
   "source": [
    "If the graduates know the values of $v_j$ and the distribution of $\\epsilon_{i,j}^k$, they can calculate the expected utility of each career track using simulation: <br>\n",
    "$$\n",
    "    \\mathbb{E}\\left[ u^k_{i,j}\\vert v_j \\right] \\approx v_j + \\frac{1}{K}\\sum_{k=1}^K \\epsilon_{i,j}^k\n",
    "$$"
   ]
  },
  {
   "cell_type": "code",
   "execution_count": 6,
   "metadata": {},
   "outputs": [],
   "source": [
    "par = SimpleNamespace()\n",
    "par.J = 3\n",
    "par.N = 10\n",
    "par.K = 10000\n",
    "\n",
    "par.F = np.arange(1,par.N+1)\n",
    "par.sigma = 2\n",
    "\n",
    "par.v = np.array([1,2,3])\n",
    "par.c = 1"
   ]
  },
  {
   "cell_type": "markdown",
   "metadata": {},
   "source": [
    "**Question 1:** Simulate and calculate expected utility and the average realised utility for $K=10000$ draws, for each career choice $j$.\n"
   ]
  },
  {
   "cell_type": "code",
   "execution_count": 7,
   "metadata": {},
   "outputs": [
    {
     "name": "stdout",
     "output_type": "stream",
     "text": [
      "Mean utilities:\n",
      "v₁ = 1.022\n",
      "v₂ = 2.022\n",
      "v₃ = 3.022\n"
     ]
    }
   ],
   "source": [
    "# Setting the seed for reproducibility of the error term, calculating the error terms using the parameters above\n",
    "np.random.seed(1703)\n",
    "E = np.random.normal(0, par.sigma, par.K)\n",
    "\n",
    "# Initialize a list of lists to store utility values for each v\n",
    "utilities = [[] for _ in par.v]\n",
    "\n",
    "# Calculating utilities for each value of v\n",
    "for e in E:\n",
    "    for i, v in enumerate(par.v):\n",
    "        utilities[i].append(v + e)\n",
    "\n",
    "# Calculate the means and round them\n",
    "mean_utilities = [round(np.mean(utility), 3) for utility in utilities]\n",
    "\n",
    "print(\"Mean utilities:\")\n",
    "print(u\"v\\u2081\", \"=\", mean_utilities[0])\n",
    "print(u\"v\\u2082\", \"=\", mean_utilities[1])\n",
    "print(u\"v\\u2083\", \"=\", mean_utilities[2])"
   ]
  },
  {
   "cell_type": "markdown",
   "metadata": {},
   "source": [
    "Now consider a new scenario: Imagine that the graduate does not know $v_j$. The *only* prior information they have on the value of each job, comes from their $F_{i}$ friends that work in each career $j$. After talking with them, they know the average utility of their friends (which includes their friends' noise term), giving them the prior expecation: <br>\n",
    "$$\n",
    "\\tilde{u}^k_{i,j}\\left( F_{i}\\right) = \\frac{1}{F_{i}}\\sum_{f=1}^{F_{i}} \\left(v_{j} + \\epsilon^k_{f,j}\\right), \\; \\epsilon^k_{f,j}\\sim \\mathcal{N}(0,\\sigma^2)\n",
    "$$\n",
    "For ease of notation consider that each graduate have $F_{i}=i$ friends in each career. <br>"
   ]
  },
  {
   "cell_type": "markdown",
   "metadata": {},
   "source": [
    "For $K$ times do the following: <br>\n",
    "1. For each person $i$ draw $J\\cdot F_i$ values of $\\epsilon_{f,j}^{k}$, and calculate the prior expected utility of each career track, $\\tilde{u}^k_{i,j}\\left( F_{i}\\right)$. <br>\n",
    "Also draw their own $J$ noise terms, $\\epsilon_{i,j}^k$\n",
    "1. Each person $i$ chooses the career track with the highest expected utility: $$j_i^{k*}= \\arg\\max_{j\\in{1,2\\dots,J}}\\left\\{ \\tilde{u}^k_{i,j}\\left( F_{i}\\right)\\right\\} $$\n",
    "1. Store the chosen careers: $j_i^{k*}$, the prior expectation of the value of their chosen career: $\\tilde{u}^k_{i,j=j_i^{k*}}\\left( F_{i}\\right)$, and the realized value of their chosen career track: $u^k_{i,j=j_i^{k*}}=v_{j=j_i^{k*}}+\\epsilon_{i,j=j_i^{k*}}^k$."
   ]
  },
  {
   "cell_type": "markdown",
   "metadata": {},
   "source": [
    "Chosen values will be: <br>\n",
    "$i\\in\\left\\{1,2\\dots,N\\right\\}, N=10$ <br>\n",
    "$F_i = i$<br>\n",
    "So there are 10 graduates. The first has 1 friend in each career, the second has 2 friends, ... the tenth has 10 friends."
   ]
  },
  {
   "cell_type": "code",
   "execution_count": 8,
   "metadata": {},
   "outputs": [
    {
     "name": "stdout",
     "output_type": "stream",
     "text": [
      "Graduate 1 would choose career path 1 with an expected utility of 4.147\n",
      "Graduate 2 would choose career path 3 with an expected utility of 2.523\n",
      "Graduate 3 would choose career path 3 with an expected utility of 3.562\n",
      "Graduate 4 would choose career path 3 with an expected utility of 2.971\n",
      "Graduate 5 would choose career path 2 with an expected utility of 2.751\n",
      "Graduate 6 would choose career path 3 with an expected utility of 1.880\n",
      "Graduate 7 would choose career path 3 with an expected utility of 3.297\n",
      "Graduate 8 would choose career path 3 with an expected utility of 3.263\n",
      "Graduate 9 would choose career path 3 with an expected utility of 3.812\n",
      "Graduate 10 would choose career path 3 with an expected utility of 3.555\n",
      "With this career choice and in the present scenario, graduate 1 would realize a utility of 0.575814671343641\n",
      "With this career choice and in the present scenario, graduate 2 would realize a utility of 5.751301573122989\n",
      "With this career choice and in the present scenario, graduate 3 would realize a utility of 4.124549684354724\n",
      "With this career choice and in the present scenario, graduate 4 would realize a utility of 0.9647896231975639\n",
      "With this career choice and in the present scenario, graduate 5 would realize a utility of -3.2103104253912695\n",
      "With this career choice and in the present scenario, graduate 6 would realize a utility of 7.292563243885683\n",
      "With this career choice and in the present scenario, graduate 7 would realize a utility of 3.344889020213714\n",
      "With this career choice and in the present scenario, graduate 8 would realize a utility of 4.224900262429726\n",
      "With this career choice and in the present scenario, graduate 9 would realize a utility of 2.207991913487041\n",
      "With this career choice and in the present scenario, graduate 10 would realize a utility of 1.7537596730083804\n"
     ]
    }
   ],
   "source": [
    "# Setting the seed for reproducibility of the error term, calculating the error terms using the parameters above\n",
    "np.random.seed(1703)\n",
    "\n",
    "# Initialize a list to store utility values for each graduate and their friends\n",
    "graduate_friend_utilities = []\n",
    "\n",
    "# Simulate utilities for each graduate's friends\n",
    "for i in range(par.N):  # For each graduate\n",
    "    friends_utilities = []  # List to hold utilities for all friends of graduate i\n",
    "    for f in range(par.F[i]):  # For each friend of graduate i\n",
    "        # Simulate utilities from normal distribution centered on par.v with noise par.sigma\n",
    "        utilities = np.random.normal(par.v, par.sigma, par.J)\n",
    "        # Append the simulated utilities to the friends' list\n",
    "        friends_utilities.append(utilities)\n",
    "    # Append the friends' utilities list to the main list\n",
    "    graduate_friend_utilities.append(friends_utilities)\n",
    "\n",
    "# Calculate mean utilities across friends for each graduate if needed\n",
    "mean_utilities = [np.mean(friend_utilities, axis=0) for friend_utilities in graduate_friend_utilities]\n",
    "\n",
    "# Determine the maximum utility and corresponding career path for each graduate\n",
    "chosen_careers = []\n",
    "for i, utilities in enumerate(mean_utilities):\n",
    "    max_index = np.argmax(utilities)\n",
    "    chosen_careers.append((max_index, utilities[max_index]))\n",
    "\n",
    "# Print the chosen career paths and their expected utilities\n",
    "for i, (career_index, utility) in enumerate(chosen_careers):\n",
    "    print(f\"Graduate {i + 1} would choose career path {career_index + 1} with an expected utility of {utility:.3f}\")\n",
    "\n",
    "# Initialize a list of lists to store utility values for each v\n",
    "choice_utilities = []\n",
    "\n",
    "# Calculating realized utilities for each career choice and single error draws\n",
    "for i, career in enumerate(chosen_careers):\n",
    "    v, exp = career\n",
    "    utilities = np.mean(np.random.normal(v + 1, par.sigma, 1))\n",
    "    choice_utilities.append(utilities)\n",
    "\n",
    "# Printing realized utilities for each career choice\n",
    "for i, utility in enumerate(choice_utilities):\n",
    "    print(\"With this career choice and in the present scenario, graduate\", i + 1, \"would realize a utility of\", utility)"
   ]
  },
  {
   "cell_type": "markdown",
   "metadata": {},
   "source": [
    "**Question 2:** Simulate and visualize: For each type of graduate, $i$, the share of graduates choosing each career, the average Expected expected utility of the graduates, and the average ex post realized utility given their choice. <br>\n",
    "That is, calculate and visualize: <br>\n",
    "$$\n",
    "\\begin{align*}\n",
    "    \\frac{1}{K} \\sum_{k=1}^{K} \\mathbb{I}\\left\\{ j=j_i^{k*} \\right\\}  \\;\\forall j\\in\\left\\{1,2,\\dots,J\\right\\}\n",
    "\\end{align*}\n",
    "$$\n",
    "$$\n",
    "\\begin{align*}\n",
    "    \\frac{1}{K} \\sum_{k=1}^{K} \\tilde{u}^k_{ij=j_i^{k*}}\\left( F_{i}\\right)\n",
    "\\end{align*}\n",
    "$$\n",
    "And \n",
    "$$\n",
    "\\begin{align*}\n",
    "    \\frac{1}{K} \\sum_{k=1}^{K} u^k_{ij=j_i^{k*}} \n",
    "\\end{align*}\n",
    "$$\n",
    "For each graduate $i$."
   ]
  },
  {
   "cell_type": "code",
   "execution_count": 9,
   "metadata": {},
   "outputs": [
    {
     "name": "stdout",
     "output_type": "stream",
     "text": [
      "Choices from the first simulation (for example):\n",
      "Graduate 1 would choose career path 1 with an expected utility of 4.147 in the first simulation\n",
      "Graduate 2 would choose career path 2 with an expected utility of 3.713 in the first simulation\n",
      "Graduate 3 would choose career path 3 with an expected utility of 3.612 in the first simulation\n",
      "Graduate 4 would choose career path 3 with an expected utility of 3.377 in the first simulation\n",
      "Graduate 5 would choose career path 3 with an expected utility of 1.975 in the first simulation\n",
      "Graduate 6 would choose career path 3 with an expected utility of 2.771 in the first simulation\n",
      "Graduate 7 would choose career path 3 with an expected utility of 2.040 in the first simulation\n",
      "Graduate 8 would choose career path 3 with an expected utility of 2.967 in the first simulation\n",
      "Graduate 9 would choose career path 3 with an expected utility of 2.284 in the first simulation\n",
      "Graduate 10 would choose career path 1 with an expected utility of 2.154 in the first simulation\n",
      "\n",
      "Average expected and realized utilities across all simulations:\n",
      "Graduate 1 would have an average expected utility of 2.390 and realize an average utility of 2.414\n",
      "Graduate 2 would have an average expected utility of 2.525 and realize an average utility of 2.526\n",
      "Graduate 3 would have an average expected utility of 2.612 and realize an average utility of 2.610\n",
      "Graduate 4 would have an average expected utility of 2.684 and realize an average utility of 2.719\n",
      "Graduate 5 would have an average expected utility of 2.729 and realize an average utility of 2.763\n",
      "Graduate 6 would have an average expected utility of 2.755 and realize an average utility of 2.755\n",
      "Graduate 7 would have an average expected utility of 2.793 and realize an average utility of 2.799\n",
      "Graduate 8 would have an average expected utility of 2.821 and realize an average utility of 2.854\n",
      "Graduate 9 would have an average expected utility of 2.844 and realize an average utility of 2.827\n",
      "Graduate 10 would have an average expected utility of 2.855 and realize an average utility of 2.848\n"
     ]
    }
   ],
   "source": [
    "# Setting the seed for reproducibility of the error term, calculating the error terms using the parameters above\n",
    "np.random.seed(1703)\n",
    "\n",
    "# Initialize arrays to store the utilities\n",
    "utilities_all_simulations = np.zeros((par.N, par.K, par.J))\n",
    "\n",
    "# Simulate utilities for each graduate's friends across all simulations\n",
    "for i in range(par.N):\n",
    "    num_friends = par.F[i]\n",
    "    # Simulate utilities from normal distribution centered on par.v with noise par.sigma, for three dimensions (number of simulations, number of friends, number of career paths)\n",
    "    friends_utilities = np.random.normal(par.v, par.sigma, (par.K, num_friends, par.J))\n",
    "    # Calculate mean utility for each career path from friends' reports\n",
    "    mean_utilities = np.mean(friends_utilities, axis=1)\n",
    "    # Store the average utilities\n",
    "    utilities_all_simulations[i] = mean_utilities\n",
    "\n",
    "# Determine the best career path for each graduate in each simulation\n",
    "chosen_careers_all_simulations = np.argmax(utilities_all_simulations, axis=2)\n",
    "\n",
    "# Simulate realized utilities for each graduate's chosen career path across all simulations\n",
    "realized_utilities = np.zeros((par.N, par.K))\n",
    "expected_utilities = np.zeros((par.N, par.K))\n",
    "for i in range(par.N):\n",
    "    for k in range(par.K):\n",
    "        best_career = chosen_careers_all_simulations[i, k]\n",
    "        # Calculate the expected utility for the chosen career path in this simulation\n",
    "        expected_utilities[i, k] = par.v[best_career]\n",
    "        # Simulate the realized utility for the chosen career path in this simulation\n",
    "        realized_utilities[i, k] = np.random.normal(par.v[best_career], par.sigma)\n",
    "\n",
    "# Calculate the mean expected and realized utilities across all simulations for each graduate\n",
    "mean_expected_utilities = np.mean(expected_utilities, axis=1)\n",
    "mean_realized_utilities = np.mean(realized_utilities, axis=1)\n",
    "\n",
    "# Print the chosen career paths and their expected utilities for the first simulation\n",
    "print(\"Choices from the first simulation (for example):\")\n",
    "for i in range(par.N):\n",
    "    career_index = chosen_careers_all_simulations[i, 0]\n",
    "    expected_utility = utilities_all_simulations[i, 0, career_index]\n",
    "    print(f\"Graduate {i + 1} would choose career path {career_index + 1} with an expected utility of {expected_utility:.3f} in the first simulation\")\n",
    "\n",
    "# Print the mean expected and realized utilities for each graduate\n",
    "print(\"\\nAverage expected and realized utilities across all simulations:\")\n",
    "for i in range(par.N):\n",
    "    print(f\"Graduate {i + 1} would have an average expected utility of {mean_expected_utilities[i]:.3f} and realize an average utility of {mean_realized_utilities[i]:.3f}\")"
   ]
  },
  {
   "cell_type": "code",
   "execution_count": 10,
   "metadata": {},
   "outputs": [
    {
     "data": {
      "image/png": "[encoded data removed]",
      "text/plain": [
       "<Figure size 1200x800 with 1 Axes>"
      ]
     },
     "metadata": {},
     "output_type": "display_data"
    },
    {
     "data": {
      "image/png": "[encoded data removed]",
      "text/plain": [
       "<Figure size 1200x800 with 1 Axes>"
      ]
     },
     "metadata": {},
     "output_type": "display_data"
    }
   ],
   "source": [
    "# Calculate the shares of each career path chosen by graduates\n",
    "career_shares = np.zeros((par.N, par.J))\n",
    "for i in range(par.N):\n",
    "    for j in range(par.J):\n",
    "        career_shares[i, j] = np.mean(chosen_careers_all_simulations[i] == j)\n",
    "\n",
    "# Create bar charts\n",
    "\n",
    "# Bar chart for career shares\n",
    "fig, ax = plt.subplots(figsize=(12, 8))\n",
    "bar_width = 0.25\n",
    "r1 = np.arange(par.N)\n",
    "r2 = [x + bar_width for x in r1]\n",
    "r3 = [x + bar_width for x in r2]\n",
    "\n",
    "ax.bar(r1, career_shares[:, 0], color='b', width=bar_width, edgecolor='grey', label='Career 1')\n",
    "ax.bar(r2, career_shares[:, 1], color='r', width=bar_width, edgecolor='grey', label='Career 2')\n",
    "ax.bar(r3, career_shares[:, 2], color='g', width=bar_width, edgecolor='grey', label='Career 3')\n",
    "\n",
    "ax.set_xlabel('Graduate Type', fontweight='bold')\n",
    "ax.set_ylabel('Share of Graduates', fontweight='bold')\n",
    "ax.set_title('Shares of Each Type of Graduate Pursuing Each Career', fontweight='bold')\n",
    "ax.set_xticks([r + bar_width for r in range(par.N)])\n",
    "ax.set_xticklabels([f'Grad {i+1}' for i in range(par.N)])\n",
    "ax.legend()\n",
    "\n",
    "# Display the bar chart for career shares\n",
    "plt.show()\n",
    "\n",
    "# Bar chart for expected and realized utilities\n",
    "fig, ax = plt.subplots(figsize=(12, 8))\n",
    "bar_width = 0.35\n",
    "r1 = np.arange(par.N)\n",
    "r2 = [x + bar_width for x in r1]\n",
    "\n",
    "ax.bar(r1, mean_expected_utilities, color='c', width=bar_width, edgecolor='grey', label='Expected Utility')\n",
    "ax.bar(r2, mean_realized_utilities, color='m', width=bar_width, edgecolor='grey', label='Realized Utility')\n",
    "\n",
    "ax.set_xlabel('Graduate Type', fontweight='bold')\n",
    "ax.set_ylabel('Utility', fontweight='bold')\n",
    "ax.set_title('Average Expected and Realized Utilities for Each Graduate', fontweight='bold')\n",
    "ax.set_xticks([r + bar_width / 2 for r in range(par.N)])\n",
    "ax.set_xticklabels([f'Grad {i+1}' for i in range(par.N)])\n",
    "ax.legend()\n",
    "\n",
    "# Display the bar chart for expected and realized utilities\n",
    "plt.show()"
   ]
  },
  {
   "cell_type": "markdown",
   "metadata": {},
   "source": [
    "Quite intuitively, the plots show that graduates with a smaller social network and hence less information to draw on more frequently make a suboptimal career choice. As the size of graduates' social networks increases, more and more graduates tend to choose career path three, with the highest payoffs, on average."
   ]
  },
  {
   "cell_type": "markdown",
   "metadata": {},
   "source": [
    "After a year of working in their career, the graduates learn $u^k_{ij}$ for their chosen job $j_i^{k*}$ perfectly. <br>\n",
    "The can switch to one of the two remaining careers, for which they have the same prior as before, but it will now include a switching cost of $c$ which is known.\n",
    "Their new priors can be written as: \n",
    "$$\n",
    "\\tilde{u}^{k,2}_{ij}\\left( F_{i}\\right) = \\begin{cases}\n",
    "            \\tilde{u}^k_{ij}\\left( F_{i}\\right)-c & \\text{if } j \\neq j_i^{k*} \\\\\n",
    "            u_{ij=j_i^{k*}} & \\text{if } j = j_i^{k*}\n",
    "        \\end{cases}\n",
    "$$"
   ]
  },
  {
   "cell_type": "markdown",
   "metadata": {},
   "source": [
    "We will set $c=1$."
   ]
  },
  {
   "cell_type": "markdown",
   "metadata": {},
   "source": [
    "Their realized utility will be: <br>\n",
    "$$\n",
    "u^{k,2}_{ij}= \\begin{cases}\n",
    "            u_{ij}^k -c & \\text{if } j \\neq j_i^{k*} \\\\\n",
    "            u_{ij=j_i^{k*}} & \\text{if } j = j_i^{k*}\n",
    "        \\end{cases}\n",
    "$$"
   ]
  },
  {
   "cell_type": "markdown",
   "metadata": {},
   "source": [
    "**Question 3:** Following the same approach as in question 2, find the new optimal career choice for each $i$, $k$. Then for each $i$, calculate the average Expected expected utility from their new optimal career choice, and the ex post realized utility of that career. Also, for each $i$, calculate the share of graduates that chooses to switch careers, conditional on which career they chose in the first year. <br>"
   ]
  },
  {
   "cell_type": "code",
   "execution_count": 11,
   "metadata": {},
   "outputs": [
    {
     "data": {
      "image/png": "[encoded data removed]",
      "text/plain": [
       "<Figure size 1200x800 with 1 Axes>"
      ]
     },
     "metadata": {},
     "output_type": "display_data"
    },
    {
     "data": {
      "image/png": "[encoded data removed]",
      "text/plain": [
       "<Figure size 1200x800 with 1 Axes>"
      ]
     },
     "metadata": {},
     "output_type": "display_data"
    }
   ],
   "source": [
    "# Setting the seed for reproducibility of the error term, calculating the error terms using the parameters above\n",
    "np.random.seed(1703)\n",
    "\n",
    "# Calculate the initial payoffs and decide on switching\n",
    "initial_payoffs = np.zeros((par.N, par.K))\n",
    "switch_decisions = np.zeros((par.N, par.K), dtype=bool)\n",
    "switch_payoffs = np.zeros((par.N, par.K))\n",
    "for i in range(par.N):\n",
    "    for k in range(par.K):\n",
    "        best_career = chosen_careers_all_simulations[i, k]\n",
    "        initial_payoff = par.v[best_career]\n",
    "        initial_payoffs[i, k] = initial_payoff\n",
    "        \n",
    "        # Calculate the expected payoffs for switching\n",
    "        switch_options = [j for j in range(par.J) if j != best_career]\n",
    "        switch_payoffs_options = []\n",
    "        for option in switch_options:\n",
    "            switch_payoff = np.mean(utilities_all_simulations[i, k, option]) - par.c\n",
    "            switch_payoffs_options.append(switch_payoff)\n",
    "        \n",
    "        # Determine if switching is beneficial\n",
    "        max_switch_payoff = max(switch_payoffs_options)\n",
    "        if max_switch_payoff > initial_payoff:\n",
    "            switch_decisions[i, k] = True\n",
    "            switch_payoffs[i, k] = max_switch_payoff\n",
    "        else:\n",
    "            switch_payoffs[i, k] = initial_payoff\n",
    "\n",
    "# Calculate shares and average utilities\n",
    "switch_shares = np.mean(switch_decisions, axis=1)\n",
    "average_expected_utilities_switchers = np.zeros(par.N)\n",
    "average_realized_utilities_switchers = np.zeros(par.N)\n",
    "for i in range(par.N):\n",
    "    if np.any(switch_decisions[i]):\n",
    "        switch_indices = np.where(switch_decisions[i])[0]\n",
    "        average_expected_utilities_switchers[i] = np.mean(switch_payoffs[i, switch_indices])\n",
    "        average_realized_utilities_switchers[i] = np.mean(switch_payoffs[i, switch_indices] + np.random.normal(0, par.sigma, len(switch_indices)))\n",
    "\n",
    "# Plotting shares of graduates who decide to switch\n",
    "fig, ax = plt.subplots(figsize=(12, 8))\n",
    "ax.bar(np.arange(par.N), switch_shares, color='c', width=0.6, edgecolor='grey')\n",
    "ax.set_xlabel('Graduate Type', fontweight='bold')\n",
    "ax.set_ylabel('Share of Graduates Who Switch', fontweight='bold')\n",
    "ax.set_title('Share of Graduates Who Decide to Switch Careers', fontweight='bold')\n",
    "ax.set_xticks(np.arange(par.N))\n",
    "ax.set_xticklabels([f'Grad {i+1}' for i in range(par.N)])\n",
    "plt.show()\n",
    "\n",
    "# Plotting average expected and realized utilities for job switchers\n",
    "fig, ax = plt.subplots(figsize=(12, 8))\n",
    "bar_width = 0.35\n",
    "r1 = np.arange(par.N)\n",
    "r2 = [x + bar_width for x in r1]\n",
    "\n",
    "ax.bar(r1, average_expected_utilities_switchers, color='b', width=bar_width, edgecolor='grey', label='Expected Utility')\n",
    "ax.bar(r2, average_realized_utilities_switchers, color='r', width=bar_width, edgecolor='grey', label='Realized Utility')\n",
    "\n",
    "ax.set_xlabel('Graduate Type', fontweight='bold')\n",
    "ax.set_ylabel('Utility', fontweight='bold')\n",
    "ax.set_title('Average Expected and Realized Utilities for Job Switchers', fontweight='bold')\n",
    "ax.set_xticks([r + bar_width / 2 for r in range(par.N)])\n",
    "ax.set_xticklabels([f'Grad {i+1}' for i in range(par.N)])\n",
    "ax.legend()\n",
    "plt.show()"
   ]
  },
  {
   "cell_type": "markdown",
   "metadata": {},
   "source": [
    "Again, the results confirm prior expectations. The higher share of suboptimal career choices among graduates with a smaller number of friends and therefore suboptimal information discover that their information was incorrect and choose to switch career paths. Across all simulations, average expected and realized utilities are largely similar."
   ]
  },
  {
   "cell_type": "markdown",
   "metadata": {},
   "source": [
    "## 3. <a id='toc3_'></a>[Problem 3: Barycentric interpolation](#toc0_)"
   ]
  },
  {
   "cell_type": "markdown",
   "metadata": {},
   "source": [
    "**Problem:** We have a set of random points in the unit square,\n",
    "\n",
    "$$\n",
    "\\mathcal{X} = \\{(x_1,x_2)\\,|\\,x_1\\sim\\mathcal{U}(0,1),x_2\\sim\\mathcal{U}(0,1)\\}.\n",
    "$$\n",
    "\n",
    "For these points, we know the value of some function $f(x_1,x_2)$,\n",
    "\n",
    "$$\n",
    "\\mathcal{F} = \\{f(x_1,x_2) \\,|\\, (x_1,x_2) \\in \\mathcal{X}\\}.\n",
    "$$\n",
    "\n",
    "Now we want to approximate the value $f(y_1,y_2)$ for some  $y=(y_1,y_2)$, where $y_1\\sim\\mathcal{U}(0,1)$ and $y_2\\sim\\mathcal{U}(0,1)$.\n",
    "\n",
    "**Building block I**\n",
    "\n",
    "For an arbitrary triangle $ABC$ and a point $y$, define the so-called barycentric coordinates as:\n",
    "\n",
    "$$\n",
    "\\begin{align*}\n",
    "  r^{ABC}_1 &= \\frac{(B_2-C_2)(y_1-C_1) + (C_1-B_1)(y_2-C_2)}{(B_2-C_2)(A_1-C_1) + (C_1-B_1)(A_2-C_2)} \\\\\n",
    "  r^{ABC}_2 &= \\frac{(C_2-A_2)(y_1-C_1) + (A_1-C_1)(y_2-C_2)}{(B_2-C_2)(A_1-C_1) + (C_1-B_1)(A_2-C_2)} \\\\\n",
    "  r^{ABC}_3 &= 1 - r_1 - r_2.\n",
    "\\end{align*}\n",
    "$$\n",
    "\n",
    "If $r^{ABC}_1 \\in [0,1]$, $r^{ABC}_2 \\in [0,1]$, and $r^{ABC}_3 \\in [0,1]$, then the point is inside the triangle.\n",
    "\n",
    "We always have $y = r^{ABC}_1 A + r^{ABC}_2 B + r^{ABC}_3 C$.\n",
    "\n",
    "**Building block II**\n",
    "\n",
    "Define the following points:\n",
    "\n",
    "$$\n",
    "\\begin{align*}\n",
    "A&=\\arg\\min_{(x_{1},x_{2})\\in\\mathcal{X}}\\sqrt{\\left(x_{1}-y_{1}\\right)^{2}+\\left(x_{2}-y_{2}\\right)^{2}}\\text{ s.t. }x_{1}>y_{1}\\text{ and }x_{2}>y_{2}\\\\\n",
    "B&=\\arg\\min_{(x_{1},x_{2})\\in\\mathcal{X}}\\sqrt{\\left(x_{1}-y_{1}\\right)^{2}+\\left(x_{2}-y_{2}\\right)^{2}}\\text{ s.t. }x_{1}>y_{1}\\text{ and }x_{2}<y_{2}\\\\\n",
    "C&=\\arg\\min_{(x_{1},x_{2})\\in\\mathcal{X}}\\sqrt{\\left(x_{1}-y_{1}\\right)^{2}+\\left(x_{2}-y_{2}\\right)^{2}}\\text{ s.t. }x_{1}<y_{1}\\text{ and }x_{2}<y_{2}\\\\\n",
    "D&=\\arg\\min_{(x_{1},x_{2})\\in\\mathcal{X}}\\sqrt{\\left(x_{1}-y_{1}\\right)^{2}+\\left(x_{2}-y_{2}\\right)^{2}}\\text{ s.t. }x_{1}<y_{1}\\text{ and }x_{2}>y_{2}.\n",
    "\\end{align*}\n",
    "$$\n",
    "\n",
    "**Algorithm:**\n",
    "\n",
    "1. Compute $A$, $B$, $C$, and $D$. If not possible return `NaN`.\n",
    "1. If $y$ is inside the triangle $ABC$ return $r^{ABC}_1 f(A) + r^{ABC}_2 f(B) + r^{ABC}_3 f(C)$.\n",
    "1. If $y$ is inside the triangle $CDA$ return $r^{CDA}_1 f(C) + r^{CDA}_2 f(D) + r^{CDA}_3 f(A)$.\n",
    "1. Return `NaN`.\n",
    "\n"
   ]
  },
  {
   "cell_type": "markdown",
   "metadata": {},
   "source": [
    "**Sample:**"
   ]
  },
  {
   "cell_type": "code",
   "execution_count": 12,
   "metadata": {},
   "outputs": [],
   "source": [
    "rng = np.random.default_rng(2024)\n",
    "\n",
    "X = rng.uniform(size=(50,2))\n",
    "y = rng.uniform(size=(2,))\n"
   ]
  },
  {
   "cell_type": "markdown",
   "metadata": {},
   "source": [
    "**Questions 1:** Find $A$, $B$, $C$ and $D$. Illustrate these together with $X$, $y$ and the triangles $ABC$ and $CDA$."
   ]
  },
  {
   "cell_type": "code",
   "execution_count": 13,
   "metadata": {},
   "outputs": [],
   "source": [
    "# write your answer here"
   ]
  },
  {
   "cell_type": "markdown",
   "metadata": {},
   "source": [
    "**Question 2:** Compute the barycentric coordinates of the point $y$ with respect to the triangles $ABC$ and $CDA$. Which triangle is $y$ located inside?"
   ]
  },
  {
   "cell_type": "code",
   "execution_count": 14,
   "metadata": {},
   "outputs": [],
   "source": [
    "# write your answer here"
   ]
  },
  {
   "cell_type": "markdown",
   "metadata": {},
   "source": [
    "Now consider the function:\n",
    "$$\n",
    "f(x_1,x_2) = x_1 \\cdot x_2\n",
    "$$"
   ]
  },
  {
   "cell_type": "code",
   "execution_count": 15,
   "metadata": {},
   "outputs": [],
   "source": [
    "f = lambda x: x[0]*x[1]\n",
    "F = np.array([f(x) for x in X])"
   ]
  },
  {
   "cell_type": "markdown",
   "metadata": {},
   "source": [
    "**Question 3:** Compute the approximation of $f(y)$ using the full algorithm. Compare with the true value."
   ]
  },
  {
   "cell_type": "code",
   "execution_count": 16,
   "metadata": {},
   "outputs": [],
   "source": [
    "# write your answer here"
   ]
  },
  {
   "cell_type": "markdown",
   "metadata": {},
   "source": [
    "**Question 4:** Repeat question 3 for all points in the set $Y$."
   ]
  },
  {
   "cell_type": "code",
   "execution_count": 17,
   "metadata": {},
   "outputs": [],
   "source": [
    "Y = [(0.2,0.2),(0.8,0.2),(0.8,0.8),(0.8,0.2),(0.5,0.5)]"
   ]
  },
  {
   "cell_type": "code",
   "execution_count": 18,
   "metadata": {},
   "outputs": [],
   "source": [
    "# write your answer here"
   ]
  }
 ],
 "metadata": {
  "kernelspec": {
   "display_name": "base",
   "language": "python",
   "name": "python3"
  },
  "language_info": {
   "codemirror_mode": {
    "name": "ipython",
    "version": 3
   },
   "file_extension": ".py",
   "mimetype": "text/x-python",
   "name": "python",
   "nbconvert_exporter": "python",
   "pygments_lexer": "ipython3",
   "version": "3.11.5"
  }
 },
 "nbformat": 4,
 "nbformat_minor": 2
}
